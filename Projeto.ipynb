{
  "nbformat": 4,
  "nbformat_minor": 0,
  "metadata": {
    "colab": {
      "provenance": [],
      "authorship_tag": "ABX9TyOd3mzdDz0amIIvGoLr+y3l",
      "include_colab_link": true
    },
    "kernelspec": {
      "name": "python3",
      "display_name": "Python 3"
    },
    "language_info": {
      "name": "python"
    }
  },
  "cells": [
    {
      "cell_type": "markdown",
      "metadata": {
        "id": "view-in-github",
        "colab_type": "text"
      },
      "source": [
        "<a href=\"https://colab.research.google.com/github/Portgas-d-Isabelly/2-tri-agrinho/blob/main/Projeto.ipynb\" target=\"_parent\"><img src=\"https://colab.research.google.com/assets/colab-badge.svg\" alt=\"Open In Colab\"/></a>"
      ]
    },
    {
      "cell_type": "code",
      "execution_count": 5,
      "metadata": {
        "colab": {
          "base_uri": "https://localhost:8080/"
        },
        "id": "JeDErlG_Lw-q",
        "outputId": "aa1c961b-7c99-46ac-8475-24cbfbbffd46"
      },
      "outputs": [
        {
          "output_type": "stream",
          "name": "stdout",
          "text": [
            "I competição de programação dá Start\n",
            "II competição de programação da Start\n"
          ]
        }
      ],
      "source": [
        "print(\"I competição de programação dá Start\")\n",
        "ano = \"II\"\n",
        "print(f\"{ano} competição de programação da Start\")\n",
        "## Aula 1\n"
      ]
    },
    {
      "cell_type": "code",
      "source": [
        "## Aula 1\n",
        "livro_ficcao = 8\n",
        "livro_n_ficcao = 10\n",
        "livro_infantil = 6\n",
        "pontos_rodrigo = livro_ficcao + livro_n_ficcao + livro_infantil\n",
        "print(f\"Os pontos totais do Rodrigo são {pontos_rodrigo}\")"
      ],
      "metadata": {
        "colab": {
          "base_uri": "https://localhost:8080/"
        },
        "id": "XCQwV7QbVv_-",
        "outputId": "0ce83d95-2325-4a12-efbe-6157a2cd3da4"
      },
      "execution_count": 6,
      "outputs": [
        {
          "output_type": "stream",
          "name": "stdout",
          "text": [
            "Os pontos totais do Rodrigo são 24\n"
          ]
        }
      ]
    },
    {
      "cell_type": "code",
      "source": [
        "total_de_figurinhas = int(input(\"Digite o total de figurinhas: \"))\n",
        "numero_de_amigos = int(input(\"Digite o número de amigos: \"))\n",
        "figurinhas_amigo = total_de_figurinhas // (numero_de_amigos + 2)\n",
        "figurinhas_marco = 2 * figurinhas_amigo\n",
        "print(f\"Marco recebeu {figurinhas_marco} figurinhas\")"
      ],
      "metadata": {
        "id": "BXoeejHXNkIB",
        "outputId": "7497dffc-9efd-4c85-b546-500ca05006aa",
        "colab": {
          "base_uri": "https://localhost:8080/"
        }
      },
      "execution_count": 12,
      "outputs": [
        {
          "output_type": "stream",
          "name": "stdout",
          "text": [
            "Digite o total de figurinhas: 100\n",
            "Digite o número de amigos: 5\n",
            "Marco recebeu 28 figurinhas\n"
          ]
        }
      ]
    },
    {
      "cell_type": "code",
      "source": [
        "numero_de_alunos = int(input(\"Digite a quantidade de alunos: \"))\n",
        "numero_de_monitores = int(input(\"Digite a quantidade de monitores: \"))\n",
        "resposta_positiva = \"pode ir\"\n",
        "resposta_negativa = \"não pode ir\"\n",
        "\n",
        "if numero_de_alunos + numero_de_monitores <= 50:\n",
        " print(resposta_positiva)\n",
        "else:\n",
        " print(resposta_negativa)"
      ],
      "metadata": {
        "colab": {
          "base_uri": "https://localhost:8080/"
        },
        "id": "lV5-pGqDOmp2",
        "outputId": "f7789039-69cb-4d16-d7bd-b61fe4194dc2"
      },
      "execution_count": 13,
      "outputs": [
        {
          "output_type": "stream",
          "name": "stdout",
          "text": [
            "Digite a quantidade de alunos: 10\n",
            "Digite a quantidade de monitores: 2\n",
            "pode ir\n"
          ]
        }
      ]
    },
    {
      "cell_type": "code",
      "source": [
        "# Entrada = número inteiro (2)\n",
        "# Saída = 2 x 1 = 2\n",
        "\n",
        "def calcula_tabuada (numero):\n",
        " for valor in range(1,11):\n",
        "  print(f\"{numero} x {valor}={numero * valor}\")\n",
        "\n",
        "calcula_tabuada(23)"
      ],
      "metadata": {
        "id": "dZybwsMrK-YO",
        "outputId": "b907e9c9-86f2-4df9-da1f-65ef571d64bd",
        "colab": {
          "base_uri": "https://localhost:8080/"
        }
      },
      "execution_count": 3,
      "outputs": [
        {
          "output_type": "stream",
          "name": "stdout",
          "text": [
            "23 x 1=23\n",
            "23 x 2=46\n",
            "23 x 3=69\n",
            "23 x 4=92\n",
            "23 x 5=115\n",
            "23 x 6=138\n",
            "23 x 7=161\n",
            "23 x 8=184\n",
            "23 x 9=207\n",
            "23 x 10=230\n"
          ]
        }
      ]
    }
  ]
}